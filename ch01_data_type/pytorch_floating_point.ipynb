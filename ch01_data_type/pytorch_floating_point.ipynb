{
 "cells": [
  {
   "cell_type": "markdown",
   "metadata": {},
   "source": [
    "# PyTorch Floating Point"
   ]
  },
  {
   "cell_type": "markdown",
   "metadata": {},
   "source": [
    "PyTorch 中的 Floating Point 浮点数"
   ]
  },
  {
   "cell_type": "code",
   "execution_count": 2,
   "metadata": {},
   "outputs": [],
   "source": [
    "import torch"
   ]
  },
  {
   "cell_type": "code",
   "execution_count": null,
   "metadata": {},
   "outputs": [
    {
     "data": {
      "text/plain": [
       "'0.333333333333333314829616256247390992939472198486328125000000'"
      ]
     },
     "execution_count": 5,
     "metadata": {},
     "output_type": "execute_result"
    }
   ],
   "source": [
    "# 这个值被转换为 FP64 位进行存储\n",
    "value = 1/3\n",
    "# 将数值转换为字符串，保留60位小数\n",
    "format(value, '.60f')"
   ]
  },
  {
   "cell_type": "code",
   "execution_count": null,
   "metadata": {},
   "outputs": [
    {
     "name": "stdout",
     "output_type": "stream",
     "text": [
      "FP64:0.333333333333333314829616256247390992939472198486328125000000\n",
      "FP32:0.333333343267440795898437500000000000000000000000000000000000\n",
      "FP16:0.333251953125000000000000000000000000000000000000000000000000\n",
      "BF16:0.333984375000000000000000000000000000000000000000000000000000\n"
     ]
    }
   ],
   "source": [
    "\"\"\"\n",
    "从以下结果中可以得出结论：位数越少，精度越低\n",
    "\"\"\"\n",
    "tensor_fp64 = torch.tensor(value, dtype=torch.float64)\n",
    "tensor_fp32 = torch.tensor(value, dtype=torch.float32)\n",
    "tensor_fp16 = torch.tensor(value, dtype=torch.float16)\n",
    "tensor_bf16 = torch.tensor(value, dtype=torch.bfloat16)\n",
    "print(f\"FP64:{format(tensor_fp64.item(), '.60f')}\")\n",
    "print(f\"FP32:{format(tensor_fp32.item(), '.60f')}\")\n",
    "print(f\"FP16:{format(tensor_fp16.item(), '.60f')}\")\n",
    "print(f\"BF16:{format(tensor_bf16.item(), '.60f')}\")"
   ]
  }
 ],
 "metadata": {
  "kernelspec": {
   "display_name": ".venv",
   "language": "python",
   "name": "python3"
  },
  "language_info": {
   "codemirror_mode": {
    "name": "ipython",
    "version": 3
   },
   "file_extension": ".py",
   "mimetype": "text/x-python",
   "name": "python",
   "nbconvert_exporter": "python",
   "pygments_lexer": "ipython3",
   "version": "3.12.3"
  }
 },
 "nbformat": 4,
 "nbformat_minor": 2
}

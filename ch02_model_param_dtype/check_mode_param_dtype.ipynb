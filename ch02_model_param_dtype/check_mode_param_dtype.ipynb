{
 "cells": [
  {
   "cell_type": "markdown",
   "metadata": {},
   "source": [
    "### 一 查看一个虚拟模型参数类型"
   ]
  },
  {
   "cell_type": "code",
   "execution_count": 9,
   "metadata": {},
   "outputs": [],
   "source": [
    "from helper import DummyModel "
   ]
  },
  {
   "cell_type": "code",
   "execution_count": 10,
   "metadata": {},
   "outputs": [],
   "source": [
    "model = DummyModel()"
   ]
  },
  {
   "cell_type": "markdown",
   "metadata": {},
   "source": [
    "查看模型结构"
   ]
  },
  {
   "cell_type": "code",
   "execution_count": 11,
   "metadata": {},
   "outputs": [
    {
     "data": {
      "text/plain": [
       "DummyModel(\n",
       "  (token_embedding): Embedding(2, 2)\n",
       "  (linear_1): Linear(in_features=2, out_features=2, bias=True)\n",
       "  (layernorm_1): LayerNorm((2,), eps=1e-05, elementwise_affine=True)\n",
       "  (linear_2): Linear(in_features=2, out_features=2, bias=True)\n",
       "  (layernorm_2): LayerNorm((2,), eps=1e-05, elementwise_affine=True)\n",
       "  (head): Linear(in_features=2, out_features=2, bias=True)\n",
       ")"
      ]
     },
     "execution_count": 11,
     "metadata": {},
     "output_type": "execute_result"
    }
   ],
   "source": [
    "model"
   ]
  },
  {
   "cell_type": "markdown",
   "metadata": {},
   "source": [
    "创建一个方法，打印模型参数的数据类型"
   ]
  },
  {
   "cell_type": "code",
   "execution_count": 12,
   "metadata": {},
   "outputs": [],
   "source": [
    "def print_param_dtype(model):\n",
    "    for name, param in model.named_parameters():\n",
    "        print(f\"{name} is loaded in {param.dtype}\")"
   ]
  },
  {
   "cell_type": "code",
   "execution_count": 13,
   "metadata": {},
   "outputs": [
    {
     "name": "stdout",
     "output_type": "stream",
     "text": [
      "token_embedding.weight is loaded in torch.float32\n",
      "linear_1.weight is loaded in torch.float32\n",
      "linear_1.bias is loaded in torch.float32\n",
      "layernorm_1.weight is loaded in torch.float32\n",
      "layernorm_1.bias is loaded in torch.float32\n",
      "linear_2.weight is loaded in torch.float32\n",
      "linear_2.bias is loaded in torch.float32\n",
      "layernorm_2.weight is loaded in torch.float32\n",
      "layernorm_2.bias is loaded in torch.float32\n",
      "head.weight is loaded in torch.float32\n",
      "head.bias is loaded in torch.float32\n"
     ]
    }
   ],
   "source": [
    "print_param_dtype(model)"
   ]
  },
  {
   "cell_type": "markdown",
   "metadata": {},
   "source": [
    "运行推理测试"
   ]
  },
  {
   "cell_type": "code",
   "execution_count": 17,
   "metadata": {},
   "outputs": [],
   "source": [
    "import torch"
   ]
  },
  {
   "cell_type": "code",
   "execution_count": 40,
   "metadata": {},
   "outputs": [],
   "source": [
    "dummy_input = torch.LongTensor([[1, 0, 1]])"
   ]
  },
  {
   "cell_type": "code",
   "execution_count": 41,
   "metadata": {},
   "outputs": [
    {
     "data": {
      "text/plain": [
       "tensor([[1, 0, 1]])"
      ]
     },
     "execution_count": 41,
     "metadata": {},
     "output_type": "execute_result"
    }
   ],
   "source": [
    "dummy_input"
   ]
  },
  {
   "cell_type": "code",
   "execution_count": 42,
   "metadata": {},
   "outputs": [],
   "source": [
    "logits_fp32 = model(dummy_input)"
   ]
  },
  {
   "cell_type": "code",
   "execution_count": 43,
   "metadata": {},
   "outputs": [
    {
     "data": {
      "text/plain": [
       "tensor([[[-0.6872,  0.7132],\n",
       "         [-0.6872,  0.7132],\n",
       "         [-0.6872,  0.7132]]], grad_fn=<ViewBackward0>)"
      ]
     },
     "execution_count": 43,
     "metadata": {},
     "output_type": "execute_result"
    }
   ],
   "source": [
    "logits_fp32"
   ]
  },
  {
   "cell_type": "markdown",
   "metadata": {},
   "source": [
    "### 二 转换为 Float16"
   ]
  },
  {
   "cell_type": "code",
   "execution_count": 15,
   "metadata": {},
   "outputs": [],
   "source": [
    "model_fp16 = DummyModel().half()"
   ]
  },
  {
   "cell_type": "code",
   "execution_count": 16,
   "metadata": {},
   "outputs": [
    {
     "name": "stdout",
     "output_type": "stream",
     "text": [
      "token_embedding.weight is loaded in torch.float16\n",
      "linear_1.weight is loaded in torch.float16\n",
      "linear_1.bias is loaded in torch.float16\n",
      "layernorm_1.weight is loaded in torch.float16\n",
      "layernorm_1.bias is loaded in torch.float16\n",
      "linear_2.weight is loaded in torch.float16\n",
      "linear_2.bias is loaded in torch.float16\n",
      "layernorm_2.weight is loaded in torch.float16\n",
      "layernorm_2.bias is loaded in torch.float16\n",
      "head.weight is loaded in torch.float16\n",
      "head.bias is loaded in torch.float16\n"
     ]
    }
   ],
   "source": [
    "print_param_dtype(model_fp16)"
   ]
  },
  {
   "cell_type": "markdown",
   "metadata": {},
   "source": [
    "运行推理测试"
   ]
  },
  {
   "cell_type": "code",
   "execution_count": 44,
   "metadata": {},
   "outputs": [],
   "source": [
    "logits_fp16 = model_fp16(dummy_input)"
   ]
  },
  {
   "cell_type": "code",
   "execution_count": 45,
   "metadata": {},
   "outputs": [
    {
     "data": {
      "text/plain": [
       "tensor([[[-0.6870,  0.7134],\n",
       "         [-0.6870,  0.7134],\n",
       "         [-0.6870,  0.7134]]], dtype=torch.float16, grad_fn=<ViewBackward0>)"
      ]
     },
     "execution_count": 45,
     "metadata": {},
     "output_type": "execute_result"
    }
   ],
   "source": [
    "logits_fp16"
   ]
  },
  {
   "cell_type": "markdown",
   "metadata": {},
   "source": [
    "### 三 转换为 BFloat16"
   ]
  },
  {
   "cell_type": "markdown",
   "metadata": {},
   "source": [
    "此处将会使用 `copy.deepcopy` 来拷贝 FP32 版本模型，以确保 BF16 和 FP32 之间具有相同的权重。\n",
    "\n",
    "**deepcopy**\n",
    "\n",
    "`copy.deepcopy` 会创建一个与原始对象独立的模型副本。你对副本所做的修改不会影响到原始对象，因为你是创建了一个“深拷贝”。要查看更多详细信息，参考 Python docs [copy][https://docs.python.org/3/library/copy.html]"
   ]
  },
  {
   "cell_type": "code",
   "execution_count": 46,
   "metadata": {},
   "outputs": [],
   "source": [
    "from copy import deepcopy"
   ]
  },
  {
   "cell_type": "code",
   "execution_count": 47,
   "metadata": {},
   "outputs": [],
   "source": [
    "model_bf16 = deepcopy(model)"
   ]
  },
  {
   "cell_type": "code",
   "execution_count": 48,
   "metadata": {},
   "outputs": [],
   "source": [
    "model_bf16 = model_bf16.to(torch.bfloat16)"
   ]
  },
  {
   "cell_type": "code",
   "execution_count": 49,
   "metadata": {},
   "outputs": [
    {
     "name": "stdout",
     "output_type": "stream",
     "text": [
      "token_embedding.weight is loaded in torch.bfloat16\n",
      "linear_1.weight is loaded in torch.bfloat16\n",
      "linear_1.bias is loaded in torch.bfloat16\n",
      "layernorm_1.weight is loaded in torch.bfloat16\n",
      "layernorm_1.bias is loaded in torch.bfloat16\n",
      "linear_2.weight is loaded in torch.bfloat16\n",
      "linear_2.bias is loaded in torch.bfloat16\n",
      "layernorm_2.weight is loaded in torch.bfloat16\n",
      "layernorm_2.bias is loaded in torch.bfloat16\n",
      "head.weight is loaded in torch.bfloat16\n",
      "head.bias is loaded in torch.bfloat16\n"
     ]
    }
   ],
   "source": [
    "print_param_dtype(model_bf16)"
   ]
  },
  {
   "cell_type": "markdown",
   "metadata": {},
   "source": [
    "运行推理测试"
   ]
  },
  {
   "cell_type": "code",
   "execution_count": 50,
   "metadata": {},
   "outputs": [],
   "source": [
    "logits_bf16 = model_bf16(dummy_input)"
   ]
  },
  {
   "cell_type": "code",
   "execution_count": 51,
   "metadata": {},
   "outputs": [
    {
     "data": {
      "text/plain": [
       "tensor([[[-0.6875,  0.7148],\n",
       "         [-0.6875,  0.7148],\n",
       "         [-0.6875,  0.7148]]], dtype=torch.bfloat16, grad_fn=<ViewBackward0>)"
      ]
     },
     "execution_count": 51,
     "metadata": {},
     "output_type": "execute_result"
    }
   ],
   "source": [
    "logits_bf16"
   ]
  },
  {
   "cell_type": "markdown",
   "metadata": {},
   "source": [
    "FP32 与 BF16 差异计算"
   ]
  },
  {
   "cell_type": "code",
   "execution_count": 52,
   "metadata": {},
   "outputs": [
    {
     "name": "stdout",
     "output_type": "stream",
     "text": [
      "Mean diff: 0.0009978810558095574 | Max diff: 0.0016907453536987305\n"
     ]
    }
   ],
   "source": [
    "mean_diff = torch.abs(logits_bf16 - logits_fp32).mean().item()\n",
    "max_diff = torch.abs(logits_bf16 - logits_fp32).max().item()\n",
    "\n",
    "print(f\"Mean diff: {mean_diff} | Max diff: {max_diff}\")"
   ]
  }
 ],
 "metadata": {
  "kernelspec": {
   "display_name": ".venv",
   "language": "python",
   "name": "python3"
  },
  "language_info": {
   "codemirror_mode": {
    "name": "ipython",
    "version": 3
   },
   "file_extension": ".py",
   "mimetype": "text/x-python",
   "name": "python",
   "nbconvert_exporter": "python",
   "pygments_lexer": "ipython3",
   "version": "3.12.3"
  }
 },
 "nbformat": 4,
 "nbformat_minor": 2
}
